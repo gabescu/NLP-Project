{
 "cells": [
  {
   "cell_type": "code",
   "execution_count": 55,
   "id": "8e80dda5-f482-43aa-907f-513ec0bcf581",
   "metadata": {},
   "outputs": [
    {
     "name": "stdout",
     "output_type": "stream",
     "text": [
      "Results saved to tokenized/hp8diolog.iob2\n"
     ]
    },
    {
     "name": "stderr",
     "output_type": "stream",
     "text": [
      "C:\\Users\\shano\\AppData\\Local\\Temp\\ipykernel_19832\\608628149.py:17: FutureWarning: Series.__getitem__ treating keys as positions is deprecated. In a future version, integer keys will always be treated as labels (consistent with DataFrame behavior). To access a value by position, use `ser.iloc[pos]`\n",
      "  id_ = row[0]\n",
      "C:\\Users\\shano\\AppData\\Local\\Temp\\ipykernel_19832\\608628149.py:18: FutureWarning: Series.__getitem__ treating keys as positions is deprecated. In a future version, integer keys will always be treated as labels (consistent with DataFrame behavior). To access a value by position, use `ser.iloc[pos]`\n",
      "  text = row[1]\n"
     ]
    }
   ],
   "source": [
    "import pandas as pd\n",
    "import re\n",
    "\n",
    "csv_file_path = \"hp8diolog.csv\"\n",
    "\n",
    "df = pd.read_csv(csv_file_path, sep=';')\n",
    "\n",
    "output_file_path = \"tokenized/hp8diolog.iob2\"\n",
    "\n",
    "iob2_lines = []\n",
    "\n",
    "\n",
    "with open(output_file_path, \"w\") as output_file:\n",
    "    output_file.write(f\"# newdoc id = {csv_file_path}\\n\")\n",
    "\n",
    "    for index, row in df.iterrows():\n",
    "        id_ = row[0]\n",
    "        text = row[1]\n",
    "        tokens = re.findall(r\"(Mr\\.|Mrs\\.|\\.\\.\\.|'ll|'d|'ve|'m|'re|'s|[—,;'.:_!?]|n't|\\w+(?=n't)|\\w+)\", text)\n",
    "\n",
    "        output_file.write(f\"# sent_id = {id_}\\n\")\n",
    "        output_file.write(f\"# text = {text}\\n\")\n",
    "\n",
    "        for i, token in enumerate(tokens, start=1):\n",
    "            iob2_line = f\"{i}\\t{token}\\tO\\t-\\t-\\n\"\n",
    "            output_file.write(iob2_line)\n",
    "\n",
    "        output_file.write(\"\\n\")  \n",
    "\n",
    "print(f\"Results saved to {output_file_path}\")\n"
   ]
  },
  {
   "cell_type": "markdown",
   "id": "c679e25a-56c2-46fc-a1a8-460bb8b41620",
   "metadata": {},
   "source": []
  }
 ],
 "metadata": {
  "kernelspec": {
   "display_name": "Python 3 (ipykernel)",
   "language": "python",
   "name": "python3"
  },
  "language_info": {
   "codemirror_mode": {
    "name": "ipython",
    "version": 3
   },
   "file_extension": ".py",
   "mimetype": "text/x-python",
   "name": "python",
   "nbconvert_exporter": "python",
   "pygments_lexer": "ipython3",
   "version": "3.11.4"
  }
 },
 "nbformat": 4,
 "nbformat_minor": 5
}
